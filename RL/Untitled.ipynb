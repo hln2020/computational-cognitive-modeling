{
 "cells": [
  {
   "cell_type": "code",
   "execution_count": 4,
   "id": "138c25fa",
   "metadata": {},
   "outputs": [],
   "source": [
    "returns={'a':[1],'b':[2]}\n",
    "for key in returns:\n",
    "    returns[key].append(3)"
   ]
  },
  {
   "cell_type": "code",
   "execution_count": 5,
   "id": "61628570",
   "metadata": {},
   "outputs": [
    {
     "data": {
      "text/plain": [
       "{'a': [1, 3], 'b': [2, 3]}"
      ]
     },
     "execution_count": 5,
     "metadata": {},
     "output_type": "execute_result"
    }
   ],
   "source": [
    "returns"
   ]
  },
  {
   "cell_type": "code",
   "execution_count": null,
   "id": "f8441afe",
   "metadata": {},
   "outputs": [],
   "source": []
  }
 ],
 "metadata": {
  "kernelspec": {
   "display_name": "Python 3 (ipykernel)",
   "language": "python",
   "name": "python3"
  },
  "language_info": {
   "codemirror_mode": {
    "name": "ipython",
    "version": 3
   },
   "file_extension": ".py",
   "mimetype": "text/x-python",
   "name": "python",
   "nbconvert_exporter": "python",
   "pygments_lexer": "ipython3",
   "version": "3.9.12"
  }
 },
 "nbformat": 4,
 "nbformat_minor": 5
}
